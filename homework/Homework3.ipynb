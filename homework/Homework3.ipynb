{
  "nbformat": 4,
  "nbformat_minor": 0,
  "metadata": {
    "colab": {
      "provenance": [],
      "authorship_tag": "ABX9TyPFvUVx/K4oo/J5gLZE9I05",
      "include_colab_link": true
    },
    "kernelspec": {
      "name": "python3",
      "display_name": "Python 3"
    },
    "language_info": {
      "name": "python"
    }
  },
  "cells": [
    {
      "cell_type": "markdown",
      "metadata": {
        "id": "view-in-github",
        "colab_type": "text"
      },
      "source": [
        "<a href=\"https://colab.research.google.com/github/rydermccomb/BME3053C-Fall-2025/blob/main/homework/Homework3.ipynb\" target=\"_parent\"><img src=\"https://colab.research.google.com/assets/colab-badge.svg\" alt=\"Open In Colab\"/></a>"
      ]
    },
    {
      "cell_type": "code",
      "execution_count": 3,
      "metadata": {
        "colab": {
          "base_uri": "https://localhost:8080/"
        },
        "id": "jX-gr31L3Tb-",
        "outputId": "531b246a-fbd4-4733-a15e-a17e27469f0f"
      },
      "outputs": [
        {
          "output_type": "stream",
          "name": "stdout",
          "text": [
            "Number of peaks: 27\n"
          ]
        }
      ],
      "source": [
        "import math\n",
        "import random\n",
        "\n",
        "ppg_signal = [1000 + 100 * math.sin(0.1 * x) + random.randint(-20, 20) for x in range(100)]\n",
        "\n",
        "def count_peaks(ppg_signal):\n",
        "    peak_count = 0\n",
        "    for i in range(1, len(ppg_signal) - 1):\n",
        "        if ppg_signal[i] > ppg_signal[i - 1] and ppg_signal[i] > ppg_signal[i + 1]:\n",
        "            peak_count += 1\n",
        "    print(\"Number of peaks:\", peak_count)\n",
        "\n",
        "count_peaks(ppg_signal)\n"
      ]
    }
  ]
}