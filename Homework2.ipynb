{
  "nbformat": 4,
  "nbformat_minor": 0,
  "metadata": {
    "colab": {
      "provenance": [],
      "authorship_tag": "ABX9TyN5IroD7Jb+OVFH2JF8TbtS",
      "include_colab_link": true
    },
    "kernelspec": {
      "name": "python3",
      "display_name": "Python 3"
    },
    "language_info": {
      "name": "python"
    }
  },
  "cells": [
    {
      "cell_type": "markdown",
      "metadata": {
        "id": "view-in-github",
        "colab_type": "text"
      },
      "source": [
        "<a href=\"https://colab.research.google.com/github/rydermccomb/BME3053C-Fall-2025/blob/main/Homework2.ipynb\" target=\"_parent\"><img src=\"https://colab.research.google.com/assets/colab-badge.svg\" alt=\"Open In Colab\"/></a>"
      ]
    },
    {
      "cell_type": "code",
      "execution_count": 5,
      "metadata": {
        "colab": {
          "base_uri": "https://localhost:8080/"
        },
        "id": "8K7ke4fnEPr3",
        "outputId": "52dc97c6-4f39-4603-f2ae-d19055aab139"
      },
      "outputs": [
        {
          "output_type": "stream",
          "name": "stdout",
          "text": [
            "[0.0, 0.32075471698113206, 0.5849056603773585, 0.05660377358490566, 0.7924528301886793, 1.0, 0.1320754716981132, 0.6415094339622641]\n"
          ]
        }
      ],
      "source": [
        "#Blood Pressure\n",
        "bp_readings = [120, 137, 151, 123, 162, 173, 127, 154]\n",
        "\n",
        "#Initiliazed Normalized Blood Pressures\n",
        "normalized_bp_readings = []\n",
        "\n",
        "#Function\n",
        "def normalize_bp(blood_pressures):\n",
        "    min_value = min(blood_pressures)\n",
        "    max_value = max(blood_pressures)\n",
        "    normalized = []\n",
        "    for i in blood_pressures:\n",
        "        normalized.append((i - min_value) / (max_value - min_value))\n",
        "    return normalized\n",
        "\n",
        "#Call the function and print results\n",
        "normalized_bp_readings = normalize_bp(bp_readings)\n",
        "print(normalized_bp_readings)"
      ]
    }
  ]
}